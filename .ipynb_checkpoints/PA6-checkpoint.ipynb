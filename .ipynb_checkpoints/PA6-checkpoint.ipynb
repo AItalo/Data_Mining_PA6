{
 "cells": [
  {
   "cell_type": "markdown",
   "metadata": {},
   "source": [
    "# PA 6 - Decision Trees"
   ]
  },
  {
   "cell_type": "markdown",
   "metadata": {},
   "source": [
    "## Step 1 - Decision Tree Classifier\n",
    "\n",
    "This Assignment is mainly focused on using decision trees to classify instances. As such, our first step is to create a function to generate these decision trees.\n",
    "\n",
    "First, we will need to import the `math` and `operator` modules later in this code, so we will do that here."
   ]
  },
  {
   "cell_type": "code",
   "execution_count": 1,
   "metadata": {},
   "outputs": [],
   "source": [
    "import math\n",
    "import operator"
   ]
  },
  {
   "cell_type": "markdown",
   "metadata": {},
   "source": [
    "Then, we will need several helper functions that will be used in the `tdidt()` classifier.\n",
    "\n",
    "The first set are functions that are copied from the functions developed in class. We will pull `group_by()` and `get_column()` from previous repositories, as well as `partition_instances()` from the starter code for this assignment located in the `DecisionTreeFun` repository."
   ]
  },
  {
   "cell_type": "code",
   "execution_count": 3,
   "metadata": {},
   "outputs": [],
   "source": [
    "# @Gina's Repo\n",
    "def groupBy(table, column_index, include_only_column_index=None):\n",
    "    # first identify unique values in the column\n",
    "    group_names = sorted(list(set(get_column(table, column_index))))\n",
    "\n",
    "    # now, we need a list of subtables\n",
    "    # each subtable corresponds to a value in group_names\n",
    "    # parallel arrays\n",
    "    groups = [[] for name in group_names]\n",
    "    for row in table:\n",
    "        # which group does it belong to?\n",
    "        group_by_value = row[column_index]\n",
    "        index = group_names.index(group_by_value)\n",
    "        if include_only_column_index is None:\n",
    "            groups[index].append(row.copy()) # note: shallow copy\n",
    "        else:\n",
    "            groups[index].append(row[include_only_column_index])\n",
    "\n",
    "    return group_names, groups\n",
    "\n",
    "# takes a table and a column index\n",
    "# returns a column at index where values are converted to numeric\n",
    "def get_column(table, column_index):\n",
    "    column = []\n",
    "    for item in table:\n",
    "        column.append(item[column_index])\n",
    "    return column\n",
    "\n",
    "def partition_instances(instances, att_index, att_domain):\n",
    "    # this is a group by att_domain, not by att_values in instances\n",
    "    partition = {}\n",
    "    for att_value in att_domain:\n",
    "        subinstances = []\n",
    "        for instance in instances:\n",
    "            # check if this instance has att_value at att_index\n",
    "            if instance[att_index] == att_value:\n",
    "                subinstances.append(instance)\n",
    "        partition[att_value] = subinstances\n",
    "    return partition"
   ]
  },
  {
   "cell_type": "markdown",
   "metadata": {},
   "source": [
    "We will also need to develop several helper functions of our own to use. These are defined below:\n",
    "\n",
    "* `check_all_same_att()`\n",
    "    * **Parameters**:\n",
    "        * `instances` - A list of the current partitioned instances to check\n",
    "        * `index` - The index to query\n",
    "    * **Returns**:\n",
    "        * `True` if all instances in `instances` have the same value at `index`; `False` if else.\n",
    "* `check_all_same_class()`\n",
    "     * **Parameters**:\n",
    "        * `instances` - A list of the current partitioned instances to check\n",
    "        * `class_index` - The index of the classifying variable\n",
    "    * **Returns**:\n",
    "        * `True` if all instances in `instances` have the same class; `False` if else.\n",
    "\n",
    "* `select_attribute()`\n",
    "    * **Parameters**:\n",
    "        * `instances` - A list of the current partitioned instances\n",
    "        * `att_indexes` - A list of valid indices to split on\n",
    "        * `class_index` - The index of the classifying attribute\n",
    "    * **Returns**:\n",
    "        * Uses the calculations for Entropy and Information Gain discussed in class to return the index attribute with the lowest entropy to be split on next\n",
    "* `handle_clash()`\n",
    "    * **Parameters**:\n",
    "        * `instances` - A list of the current partitioned instances\n",
    "        * `class_index` - The index of the classifying attribute\n",
    "    * **Returns**:\n",
    "        * Uses majority voting to resolve clashes in the decision tree and create a Leaf Node with the most frequent class value"
   ]
  },
  {
   "cell_type": "code",
   "execution_count": 4,
   "metadata": {},
   "outputs": [],
   "source": [
    "def check_all_same_att(instances, index):\n",
    "    base = instances[0][index]\n",
    "    for elem in instances:\n",
    "        if elem[index] != base:\n",
    "            return False\n",
    "    return True\n",
    "\n",
    "def check_all_same_class(instances, class_index):\n",
    "    base = instances[0][class_index]\n",
    "    for elem in instances:\n",
    "        if elem[class_index] != base:\n",
    "            return False\n",
    "    return True\n",
    "\n",
    "def select_attribute(instances, att_indexes, class_index):\n",
    "    Entropy_list = {}\n",
    "    for index in att_indexes:\n",
    "        E_new = 0\n",
    "        names, values = groupBy(instances, index)\n",
    "        for val in values:\n",
    "            ratios = {}\n",
    "            total = 0\n",
    "            for instance in val:\n",
    "                if instance[class_index] not in ratios:\n",
    "                    ratios[instance[class_index]] = 1\n",
    "                else:\n",
    "                    ratios[instance[class_index]] += 1\n",
    "                total += 1\n",
    "            E = 0\n",
    "            for ratio in ratios:\n",
    "                E += (ratios[ratio] / total) * math.log((ratios[ratio] / total), 2)\n",
    "            E_new += (total / len(instances)) * -E\n",
    "        Entropy_list[index] = E_new\n",
    "\n",
    "    min_i = att_indexes[0]\n",
    "    for index in att_indexes:\n",
    "        if Entropy_list[index] < Entropy_list[min_i]:\n",
    "            min_i = index\n",
    "    return min_i\n",
    "\n",
    "def handle_clash(instances, class_index):\n",
    "    votes = {}\n",
    "    for instance in instances:\n",
    "        if instance[class_index] not in votes:\n",
    "            votes[instance[class_index]] = 1\n",
    "        else:\n",
    "            votes[instance[class_index]] += 1\n",
    "    # Referenced from https://stackoverflow.com/questions/613183/how-do-i-sort-a-dictionary-by-value\n",
    "    sorted_x = sorted(votes.items(), reverse=True, key=operator.itemgetter(1))\n",
    "    return [\"Leaf\", sorted_x[0][0]]\n"
   ]
  },
  {
   "cell_type": "markdown",
   "metadata": {},
   "source": [
    "Now that we have these classifiers, we can construct our `tdidt()` decision tree generator, as well as the `classify_tdidt()` classifier.\n",
    "\n",
    "* `tdidt()`\n",
    "    * **Parameters**:\n",
    "        * `instances` - The currently partitioned instances. On first recursive call, these are initialized as the entire dataset.\n",
    "        * `att_indexes` - A list of all valid indices to split on. On first recursive call, these are initialized as all attribute indices.\n",
    "        * `att_domains` - A list of all valid values for each attribute in the dataset.\n",
    "        * `class_index` - The index of the classifying attribute.\n",
    "    * **Returns**:\n",
    "        * A Decision Tree, represented using nested lists\n",
    "* `classify_tdidt()`\n",
    "    * **Parameters**:\n",
    "        * `tree` - A decision tree, generated by `tdidt()`\n",
    "        * `instance` - The unseen instance to classify\n",
    "    * **Returns**:\n",
    "        * A predicted classification using the decision tree"
   ]
  },
  {
   "cell_type": "code",
   "execution_count": 6,
   "metadata": {},
   "outputs": [],
   "source": [
    "def tdidt(instances, att_indexes, att_domains, class_index):\n",
    "    if check_all_same_class(instances, class_index):\n",
    "        return [\"Leaf\", instances[0][class_index]]\n",
    "    if att_indexes == []:\n",
    "        return handle_clash(instances, class_index)\n",
    "    index = select_attribute(instances, att_indexes, class_index)\n",
    "    new_indexes = att_indexes[:]\n",
    "    new_indexes.remove(index)\n",
    "    if check_all_same_att(instances, index):\n",
    "        return tdidt(instances, new_indexes, att_domains, class_index)\n",
    "    else:\n",
    "        tree = [\"Attribute\", index]\n",
    "        partitions = partition_instances(instances, index, att_domains[index])\n",
    "        for val in partitions:\n",
    "            if (partitions[val] == []):\n",
    "                return handle_clash(instances, class_index)\n",
    "            tree.append([\"Value\", val, tdidt(partitions[val], new_indexes, att_domains, class_index)])\n",
    "        return tree\n",
    "\n",
    "def classify_tdidt(tree, instance):\n",
    "    if tree[0] == 'Leaf':\n",
    "        return tree[1]\n",
    "    else:\n",
    "        i = 2\n",
    "        while (instance[tree[1]] != tree[i][1]):\n",
    "            i += 1\n",
    "        return classify_tdidt(tree[i][2], instance)\n"
   ]
  },
  {
   "cell_type": "markdown",
   "metadata": {},
   "source": [
    "To test our classifier, we will make use of the \"interview\" dataset provided in class."
   ]
  },
  {
   "cell_type": "code",
   "execution_count": 7,
   "metadata": {},
   "outputs": [],
   "source": [
    "table = [\n",
    "        [\"Senior\", \"Java\", \"no\", \"no\", \"False\"],\n",
    "        [\"Senior\", \"Java\", \"no\", \"yes\", \"False\"],\n",
    "        [\"Mid\", \"Python\", \"no\", \"no\", \"True\"],\n",
    "        [\"Junior\", \"Python\", \"no\", \"no\", \"True\"],\n",
    "        [\"Junior\", \"R\", \"yes\", \"no\", \"True\"],\n",
    "        [\"Junior\", \"R\", \"yes\", \"yes\", \"False\"],\n",
    "        [\"Mid\", \"R\", \"yes\", \"yes\", \"True\"],\n",
    "        [\"Senior\", \"Python\", \"no\", \"no\", \"False\"],\n",
    "        [\"Senior\", \"R\", \"yes\", \"no\", \"True\"],\n",
    "        [\"Junior\", \"Python\", \"yes\", \"no\", \"True\"],\n",
    "        [\"Senior\", \"Python\", \"yes\", \"yes\", \"True\"],\n",
    "        [\"Mid\", \"Python\", \"no\", \"yes\", \"True\"],\n",
    "        [\"Mid\", \"Java\", \"yes\", \"no\", \"True\"],\n",
    "        [\"Junior\", \"Python\", \"no\", \"yes\", \"False\"]\n",
    "    ]"
   ]
  },
  {
   "cell_type": "markdown",
   "metadata": {},
   "source": [
    "We will first generate a decision tree using `tdidt()`, and then we will classify two instances: (\"Senior\", \"Java\", \"no\", \"yes\"), which exists in the dataset and should have the classification (\"False\"); and (\"Junior\", \"Java\", \"no\", \"no\"), which is not in the dataset but based on our in-class tree, should have the classification (\"True\")"
   ]
  },
  {
   "cell_type": "code",
   "execution_count": 9,
   "metadata": {},
   "outputs": [
    {
     "name": "stdout",
     "output_type": "stream",
     "text": [
      "False\n",
      "True\n"
     ]
    }
   ],
   "source": [
    "tree = tdidt(table, [0, 1, 2, 3], [[\"Senior\", \"Mid\", \"Junior\"], [\"Java\", \"Python\", \"R\"], [\"no\", \"yes\"], [\"no\", \"yes\"]], 4)\n",
    "\n",
    "print(classify_tdidt(tree, [\"Senior\", \"Java\", \"no\", \"yes\"]))\n",
    "print(classify_tdidt(tree, [\"Junior\", \"Java\", \"no\", \"no\"]))"
   ]
  },
  {
   "cell_type": "markdown",
   "metadata": {},
   "source": [
    "## Step 2 - "
   ]
  }
 ],
 "metadata": {
  "kernelspec": {
   "display_name": "Python 3",
   "language": "python",
   "name": "python3"
  },
  "language_info": {
   "codemirror_mode": {
    "name": "ipython",
    "version": 3
   },
   "file_extension": ".py",
   "mimetype": "text/x-python",
   "name": "python",
   "nbconvert_exporter": "python",
   "pygments_lexer": "ipython3",
   "version": "3.7.1"
  }
 },
 "nbformat": 4,
 "nbformat_minor": 2
}
